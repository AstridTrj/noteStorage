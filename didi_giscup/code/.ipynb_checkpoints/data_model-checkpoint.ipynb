{
 "cells": [
  {
   "cell_type": "code",
   "execution_count": 17,
   "metadata": {},
   "outputs": [],
   "source": [
    "import pandas as pd\n",
    "import numpy as np\n",
    "import datetime\n",
    "from sklearn.model_selection import KFold\n",
    "import lightgbm\n",
    "from sklearn.metrics import mean_squared_error"
   ]
  },
  {
   "cell_type": "code",
   "execution_count": 18,
   "metadata": {},
   "outputs": [],
   "source": [
    "trian_path = \"D:/PythonProject/didi_giscup/data/giscup_2021/processed_train/\"\n",
    "test_path = \"D:/PythonProject/didi_giscup/data/giscup_2021/20200901/\"\n",
    "result_path = \"D:/PythonProject/didi_giscup/result/\""
   ]
  },
  {
   "cell_type": "code",
   "execution_count": 31,
   "metadata": {},
   "outputs": [],
   "source": [
    "fe_list = list(pd.read_csv(trian_path + \"20200801/feature.csv\").columns)\n",
    "\n",
    "train_data = pd.DataFrame(columns=fe_list)\n",
    "test_data = pd.read_csv(test_path + \"feature.csv\").drop([\"ata\"], axis=1)\n",
    "\n",
    "def read_data(start: int, end: int):\n",
    "    day_list = list(range(start, end + 1))\n",
    "    if start <= 803 and (end - start) >= 2:\n",
    "        day_list.remove(803)\n",
    "    print(\"day list: \", day_list)\n",
    "        \n",
    "    global train_data, test_data\n",
    "    for d in day_list:\n",
    "        path = trian_path + \"20200\" + str(d) + \"/\"\n",
    "        temp_df = pd.read_csv(path + \"feature.csv\")\n",
    "        train_data = pd.concat([train_data, temp_df])\n",
    "    train_data.reset_index(drop=True, inplace=True)\n",
    "    print(\"train shape: \", train_data.shape)\n",
    "    print(\"test shape: \", test_data.shape)\n",
    "\n",
    "\n",
    "def mape_score(pred: list, true: list):\n",
    "    n = len(pred)\n",
    "    pred_true = pd.DataFrame({\"pred\": pred, \"true\": true})\n",
    "    pred_true[\"pred\"] = np.abs(pred_true[\"pred\"] - pred_true[\"true\"]) / pred_true[\"true\"]\n",
    "    return pred_true[\"pred\"].sum() / n\n",
    "\n",
    "\n",
    "def trian_model():\n",
    "    global train_data, test_data\n",
    "    label = train_data[\"ata\"]\n",
    "    \n",
    "    feature = list(train_data.columns)\n",
    "    display(feature)\n",
    "    feature.remove(\"order_id\")\n",
    "    feature.remove(\"ata\")\n",
    "    for fe in feature:\n",
    "        train_data[fe] = train_data[fe].astype(np.float)\n",
    "    \n",
    "    train_df = train_data[feature]\n",
    "    test_df = test_data[feature]\n",
    "    \n",
    "    # cross validation\n",
    "    preds = np.zeros(train_df.shape[0])\n",
    "    test_pred = np.zeros(test_df.shape[0])\n",
    "    model = lightgbm.LGBMRegressor(n_estimators=10000, metric='mse')\n",
    "    kf = KFold(n_splits=5, random_state=418, shuffle=True)\n",
    "    for k, (train_id, valid_id) in enumerate(kf.split(train_df, label)):\n",
    "        \n",
    "        train_x = train_df.iloc[train_id]\n",
    "        valid_x = train_df.iloc[valid_id]\n",
    "        train_y = label.iloc[train_id]\n",
    "        valid_y = label.iloc[valid_id]\n",
    "        \n",
    "        model.fit(train_x, train_y, eval_set=(valid_x, valid_y), early_stopping_rounds=100, verbose=100)\n",
    "        preds[valid_id] = model.predict(valid_x, num_iteration=model.best_iteration_)\n",
    "        test_pred += model.predict(test_df, num_iteration=model.best_iteration_)\n",
    "    score = mape_score(preds, label)\n",
    "    print(\"mape score: \", score)\n",
    "    test_data[\"result\"] = test_pred / 5\n",
    "    test_data = test_data.rename(columns={\"order_id\": \"id\"})\n",
    "    \n",
    "    t = datetime.datetime.now()\n",
    "    t_str = str(t.month) + str(t.day) + \"_\" + str(t.hour) + \"-\" + str(t.minute) + \"-\" + str(t.second)\n",
    "    test_data[[\"id\", \"result\"]].to_csv(result_path + \"submission\" + t_str + \".csv\", index=False)\n",
    "    \n",
    "\n",
    "def main():\n",
    "    read_data(801, 804)\n",
    "    trian_model()"
   ]
  },
  {
   "cell_type": "code",
   "execution_count": 32,
   "metadata": {
    "scrolled": false
   },
   "outputs": [
    {
     "name": "stdout",
     "output_type": "stream",
     "text": [
      "day list:  [801, 802, 804]\n",
      "train shape:  (320618, 26)\n",
      "test shape:  (288076, 25)\n"
     ]
    },
    {
     "data": {
      "text/plain": [
       "['order_id',\n",
       " 'ata',\n",
       " 'distance',\n",
       " 'simple_eta',\n",
       " 'driver_id',\n",
       " 'slice_id',\n",
       " 'link_cnt',\n",
       " 'mean_distance',\n",
       " 'speed_one',\n",
       " 'link_time_sum',\n",
       " 'link_time_mean',\n",
       " 'link_time_max',\n",
       " 'link_time_min',\n",
       " 'speed_two',\n",
       " 'link_cur_sta_mean',\n",
       " 'link_cur_sta_sum',\n",
       " 'link_cur_sta_mode',\n",
       " 'cross_cnt',\n",
       " 'cross_time_sum',\n",
       " 'cross_time_mean',\n",
       " 'cross_time_max',\n",
       " 'cross_time_mode',\n",
       " 'cross_from',\n",
       " 'cross_to',\n",
       " 'cross_from_last',\n",
       " 'cross_to_last']"
      ]
     },
     "metadata": {},
     "output_type": "display_data"
    },
    {
     "name": "stdout",
     "output_type": "stream",
     "text": [
      "Training until validation scores don't improve for 100 rounds\n",
      "[100]\tvalid_0's l2: 19215.7\n",
      "[200]\tvalid_0's l2: 19086.9\n",
      "[300]\tvalid_0's l2: 19004.9\n",
      "[400]\tvalid_0's l2: 18949.3\n",
      "[500]\tvalid_0's l2: 18942.9\n",
      "[600]\tvalid_0's l2: 18924\n",
      "[700]\tvalid_0's l2: 18890\n",
      "[800]\tvalid_0's l2: 18876.9\n",
      "[900]\tvalid_0's l2: 18858.5\n",
      "[1000]\tvalid_0's l2: 18869.6\n",
      "Early stopping, best iteration is:\n",
      "[901]\tvalid_0's l2: 18858.5\n",
      "Training until validation scores don't improve for 100 rounds\n",
      "[100]\tvalid_0's l2: 19671.8\n",
      "[200]\tvalid_0's l2: 19527.8\n",
      "[300]\tvalid_0's l2: 19452.8\n",
      "[400]\tvalid_0's l2: 19374.5\n",
      "[500]\tvalid_0's l2: 19357.3\n",
      "[600]\tvalid_0's l2: 19347.4\n",
      "[700]\tvalid_0's l2: 19328.7\n",
      "[800]\tvalid_0's l2: 19306.9\n",
      "[900]\tvalid_0's l2: 19302.3\n",
      "Early stopping, best iteration is:\n",
      "[850]\tvalid_0's l2: 19294.7\n",
      "Training until validation scores don't improve for 100 rounds\n",
      "[100]\tvalid_0's l2: 20413.7\n",
      "[200]\tvalid_0's l2: 20295.6\n",
      "[300]\tvalid_0's l2: 20246.5\n",
      "[400]\tvalid_0's l2: 20184.5\n",
      "[500]\tvalid_0's l2: 20120.8\n",
      "[600]\tvalid_0's l2: 20108.5\n",
      "[700]\tvalid_0's l2: 20094.4\n",
      "[800]\tvalid_0's l2: 20071.4\n",
      "[900]\tvalid_0's l2: 20058.7\n",
      "[1000]\tvalid_0's l2: 20061.2\n",
      "[1100]\tvalid_0's l2: 20062.4\n",
      "Early stopping, best iteration is:\n",
      "[1077]\tvalid_0's l2: 20049.9\n",
      "Training until validation scores don't improve for 100 rounds\n",
      "[100]\tvalid_0's l2: 19040.4\n",
      "[200]\tvalid_0's l2: 18935\n",
      "[300]\tvalid_0's l2: 18872.7\n",
      "[400]\tvalid_0's l2: 18842.8\n",
      "[500]\tvalid_0's l2: 18812\n",
      "[600]\tvalid_0's l2: 18786.4\n",
      "[700]\tvalid_0's l2: 18774.1\n",
      "[800]\tvalid_0's l2: 18759.2\n",
      "[900]\tvalid_0's l2: 18758.6\n",
      "Early stopping, best iteration is:\n",
      "[818]\tvalid_0's l2: 18754.3\n",
      "Training until validation scores don't improve for 100 rounds\n",
      "[100]\tvalid_0's l2: 19888.3\n",
      "[200]\tvalid_0's l2: 19736.1\n",
      "[300]\tvalid_0's l2: 19655.3\n",
      "[400]\tvalid_0's l2: 19627.5\n",
      "[500]\tvalid_0's l2: 19597\n",
      "[600]\tvalid_0's l2: 19567.6\n",
      "[700]\tvalid_0's l2: 19539.1\n",
      "[800]\tvalid_0's l2: 19550.1\n",
      "Early stopping, best iteration is:\n",
      "[717]\tvalid_0's l2: 19533.5\n",
      "mape score:  0.15049685957592757\n"
     ]
    }
   ],
   "source": [
    "main()"
   ]
  },
  {
   "cell_type": "code",
   "execution_count": null,
   "metadata": {},
   "outputs": [],
   "source": [
    "# mape score:  0.15049685957592757\n",
    "train_data"
   ]
  },
  {
   "cell_type": "code",
   "execution_count": null,
   "metadata": {},
   "outputs": [],
   "source": [
    "datetime.datetime.now()"
   ]
  },
  {
   "cell_type": "code",
   "execution_count": null,
   "metadata": {},
   "outputs": [],
   "source": []
  },
  {
   "cell_type": "code",
   "execution_count": null,
   "metadata": {},
   "outputs": [],
   "source": []
  }
 ],
 "metadata": {
  "kernelspec": {
   "display_name": "Python 3",
   "language": "python",
   "name": "python3"
  },
  "language_info": {
   "codemirror_mode": {
    "name": "ipython",
    "version": 3
   },
   "file_extension": ".py",
   "mimetype": "text/x-python",
   "name": "python",
   "nbconvert_exporter": "python",
   "pygments_lexer": "ipython3",
   "version": "3.8.5"
  }
 },
 "nbformat": 4,
 "nbformat_minor": 4
}
