{
 "cells": [
  {
   "cell_type": "code",
   "execution_count": 1,
   "metadata": {},
   "outputs": [],
   "source": [
    "import pandas as pd\n",
    "import numpy as np\n",
    "import seaborn as sns\n",
    "import matplotlib\n",
    "import matplotlib.pyplot as plt\n",
    "import torch\n",
    "import torch.nn as nn\n",
    "from torch.utils.data import Dataset, DataLoader\n",
    "from sklearn.preprocessing import MinMaxScaler\n",
    "import warnings\n",
    "import talib as ta\n",
    "from sklearn.metrics import mean_absolute_error\n",
    "from statsmodels.tsa.seasonal import seasonal_decompose\n",
    "\n",
    "warnings.filterwarnings('ignore')\n",
    "\n",
    "\n",
    "matplotlib.rcParams['font.sans-serif'] = ['SimHei']\n",
    "matplotlib.rcParams['axes.unicode_minus']=False\n",
    "pd.set_option('expand_frame_repr', False) # 设置输出显示格式"
   ]
  },
  {
   "cell_type": "code",
   "execution_count": 6,
   "metadata": {},
   "outputs": [],
   "source": [
    "def get_mt4_data():\n",
    "    path = r\"D:\\PythonProject\\graduation_project\\code\\data\\mt4\\GBPUSD.csv\"\n",
    "    filename = [\"EURUSD.csv\", \"GBPUSD.csv\", \"USDCHF.csv\"]\n",
    "    col = [\"time1\", \"time2\", \"open_price\", \"hightest\", \"lowest\", \"close_price\", \"volume\"]\n",
    "    df = pd.read_csv(path, header=None, encoding=\"utf-8\")\n",
    "    df.columns = col\n",
    "    df[\"time\"] = pd.to_datetime(df[\"time1\"].str.cat(df[\"time2\"], sep=\" \")) # 合并时间列\n",
    "    del df[\"time1\"]\n",
    "    del df[\"time2\"]\n",
    "    df = df.sort_values(\"time\", ascending=False).reset_index(drop=True) # 按时间列逆序排列\n",
    "    df[\"symbol\"] = \"GBPUSD\"\n",
    "    \n",
    "    multi_list = [\"open_price\", \"hightest\", \"lowest\", \"close_price\"]\n",
    "    for name in multi_list:\n",
    "        df[name] = (df[name] * 100000).astype(int)\n",
    "    \n",
    "    print(\"mt4 shape: \", df.shape)\n",
    "    return df\n",
    "\n",
    "\n",
    "def get_mt5_data(mul=True):\n",
    "    path = r\"D:\\PythonProject\\graduation_project\\code\\data\\mt5\\GBPUSD.csv\"\n",
    "    filename = [\"EURUSD.csv\", \"GBPUSD.csv\", \"USDCHF.csv\"]\n",
    "    col = [\"symbol\", \"open_price\", \"close_price\", \"hightest\", \"lowest\", \"time\", \"volume\"]\n",
    "    df = pd.read_csv(path, encoding=\"utf-16\", sep=\"\\t\")\n",
    "    df.columns = col\n",
    "    df[\"time\"] = pd.to_datetime(df[\"time\"])\n",
    "    \n",
    "    multi_list = [\"open_price\", \"hightest\", \"lowest\", \"close_price\"]\n",
    "    if mul:\n",
    "        for name in multi_list:\n",
    "            df[name] = (df[name] * 100000).astype(int)\n",
    "    \n",
    "    print(\"mt5 shape: \", df.shape)\n",
    "    df = df.sort_values(\"time\", ascending=True).reset_index(drop=True)\n",
    "    return df\n",
    "\n",
    "# mt4与mt5数据对比\n",
    "def data_gap():\n",
    "    df4 = get_mt4_data()\n",
    "    df5 = get_mt5_data()\n",
    "    # 补充时差\n",
    "    df4[\"time\"] += pd.to_timedelta(3, 'h')\n",
    "    df = pd.merge(df4, df5, on=[\"time\", \"symbol\"], suffixes=('_mt4', '_mt5'))\n",
    "    \n",
    "    gap_list = [\"open_price\", \"hightest\", \"lowest\", \"close_price\"]\n",
    "    for item in gap_list:\n",
    "        df[item + \"_gap\"] = df[item + \"_mt5\"] - df[item + \"_mt4\"]\n",
    "    for item in [\"_mt4\", \"_mt5\"]:\n",
    "        df[\"h_l_gap\" + item] = df[\"hightest\" + item] - df[\"lowest\" + item]\n",
    "        df[\"c_o_gap\" + item] = df[\"close_price\" + item] - df[\"open_price\" + item]\n",
    "    \n",
    "    display(df.head(5))\n",
    "    display(df.shape)\n",
    "    draw_gap(df, gap_list)\n",
    "    \n",
    "def draw_gap(data: pd.DataFrame, gap_list: list):\n",
    "    l_time = pd.to_datetime(\"2020-10-25\", format=\"%Y-%m-%d\")\n",
    "    r_time = pd.to_datetime(\"2021-03-27\", format=\"%Y-%m-%d\")\n",
    "    data = data[~((data.time >= l_time) & (data.time <= r_time))]\n",
    "    display(\"normal data shape: \", data.shape)\n",
    "    # mt5与mt4对应价格差\n",
    "#     for item in gap_list:\n",
    "#         plt.figure(figsize=(20, 12))\n",
    "#         sns.scatterplot(x=\"time\", y=item + \"_gap\", data=data, label=item+\"_gap\")\n",
    "#         # sns.lineplot(x=\"time\", y=item+\"_gap\", data=data, label=item+\"_gap\")\n",
    "#         plt.show()\n",
    "    # mt5或mt4自身价格差，最高减最低，收盘减开盘\n",
    "    # 正常数据前约10w条，后约2w，中间疫情异常数据约15w\n",
    "    for tp in [\"h_l_gap\", \"c_o_gap\"]:\n",
    "        plt.figure(figsize=(20, 12))\n",
    "        # sns.scatterplot(x=\"time\", y=[tp+\"_mt4\", tp+\"_mt5\"], data=data, label=item+\"_gap\")\n",
    "        sns.lineplot(x=\"time\", y=tp+\"_mt4\", data=data[90700:90800], label=tp+\"_gap_mt4\")\n",
    "        sns.lineplot(x=\"time\", y=tp+\"_mt5\", data=data[90700:90800], label=tp+\"_gap_mt5\")\n",
    "        plt.show()"
   ]
  },
  {
   "cell_type": "code",
   "execution_count": 7,
   "metadata": {
    "scrolled": true
   },
   "outputs": [],
   "source": [
    "# data_gap()"
   ]
  },
  {
   "cell_type": "code",
   "execution_count": 8,
   "metadata": {},
   "outputs": [
    {
     "data": {
      "text/plain": [
       "Timestamp('2021-03-25 00:00:00')"
      ]
     },
     "execution_count": 8,
     "metadata": {},
     "output_type": "execute_result"
    }
   ],
   "source": [
    "pd.to_datetime(\"2021-3-25\", format=\"%Y-%m-%d\")"
   ]
  },
  {
   "cell_type": "code",
   "execution_count": 5,
   "metadata": {},
   "outputs": [],
   "source": [
    "def user_data_analysis():\n",
    "    # 读取用户市场数据\n",
    "    features = ['closePrice', 'closeTime', 'cmd', 'creatTime', 'openPrice', 'openTime', 'profit', 'symbol', 'ticket', 'volume']\n",
    "    user_data = pd.read_excel(\"output2021-04-17.xls\", sheet_name=\"history-orders-MakeMoney\")\n",
    "    user_data = user_data[features]\n",
    "    user_data[\"closeTime\"] = pd.to_datetime(user_data[\"closeTime\"]).apply(lambda x: x.replace(second=0))\n",
    "    user_data[\"openTime\"] = pd.to_datetime(user_data[\"openTime\"]).apply(lambda x: x.replace(second=0))\n",
    "    \n",
    "    user_data[\"openTime\"] -= pd.to_timedelta(5, 'h')\n",
    "    user_data[\"closeTime\"] -= pd.to_timedelta(5, 'h')\n",
    "    \n",
    "    user_data[\"closePrice\"] = (user_data[\"closePrice\"] * 100000).astype(int)\n",
    "    user_data[\"openPrice\"] = (user_data[\"openPrice\"] * 100000).astype(int)\n",
    "    user_data[\"symbol\"] = user_data[\"symbol\"].str.replace(\".ecn\", \"\")\n",
    "    # 用户市场数据头部信息\n",
    "    # display(user_data.head())\n",
    "    # 读取mt5价格数据\n",
    "    mt5_data = get_mt5_data()\n",
    "    mt5_data = mt5_data.rename(columns={\"time\":\"openTime\"})\n",
    "    # 根据opentime和币种名合并\n",
    "    merger_data = pd.merge(user_data, mt5_data, on=[\"symbol\", \"openTime\"])\n",
    "    # 缺失数据查找\n",
    "    # ss = user_data[user_data.symbol==\"GBPUSD\"]\n",
    "    # display(ss[~user_data[user_data.symbol==\"GBPUSD\"].openTime.isin(mt5_data.openTime)])\n",
    "    fea = [\"open_price\", \"close_price\", \"hightest\", \"lowest\"]\n",
    "    # 拼接后几分钟的价格数据\n",
    "    for i in range(3):\n",
    "        merger_data['new_time'] = merger_data.openTime + pd.to_timedelta(i+1,'min')\n",
    "        new_time = merger_data.openTime + pd.to_timedelta(i+1,'min')\n",
    "        i_min = mt5_data[(mt5_data.symbol=='GBPUSD')&(mt5_data.openTime.isin(new_time))]\n",
    "        i_min = i_min.rename(columns={\"openTime\":\"new_time\"})\n",
    "        merger_data = pd.merge(merger_data, i_min[fea + [\"new_time\"]],on='new_time',suffixes=('', '_' + str(i+1)))\n",
    "    # 拼接收盘时的价格数据\n",
    "    close_ = mt5_data[(mt5_data.symbol=='GBPUSD')&(mt5_data.openTime.isin(merger_data.closeTime))]\n",
    "    close_ = close_.rename(columns={\"openTime\": \"closeTime\"})\n",
    "    merger_data = pd.merge(merger_data, close_[fea + [\"closeTime\"]],on='closeTime',suffixes=('', '_close'))\n",
    "    # display(merger_data)\n",
    "    return merger_data\n",
    "\n",
    "def cal_minute_gap(m_data: pd.DataFrame, i_min: int):\n",
    "    # 计算后面分钟数据的价格差\n",
    "    for i in range(i_min):\n",
    "        # cmd为0表买涨，使用后分钟的hightest减去当前的lowest\n",
    "        m_data.loc[m_data.cmd==0, str(i+1)+\"_gap\"] = m_data.loc[m_data.cmd==0, \"hightest_\" + str(i+1)] - m_data.loc[m_data.cmd==0, \"lowest\"]\n",
    "        m_data.loc[m_data.cmd==1, str(i+1)+\"_gap\"] = m_data.loc[m_data.cmd==1, \"hightest\"] - m_data.loc[m_data.cmd==1, \"lowest_\" + str(i+1)]\n",
    "    # 计算收盘时间点的价格差 close_price_close - open_price   hightest_close - lowest\n",
    "    m_data.loc[m_data.cmd==0, \"close_gap\"] = m_data.loc[m_data.cmd==0, \"hightest_close\"] - m_data.loc[m_data.cmd==0, \"lowest\"]\n",
    "    m_data.loc[m_data.cmd==1, \"close_gap\"] = m_data.loc[m_data.cmd==1, \"hightest\"] - m_data.loc[m_data.cmd==1, \"lowest_close\"]\n",
    "    display(m_data)\n",
    "    \n",
    "    m_data.loc[m_data.profit >= 0, \"profit_sign\"] = 1\n",
    "    m_data.loc[m_data.profit < 0, \"profit_sign\"] = -1\n",
    "    m_data.loc[m_data.close_gap >= 0, \"gap_sign\"] = 1\n",
    "    m_data.loc[m_data.close_gap < 0, \"gap_sign\"] = -1\n",
    "    m_data[\"prf_gap\"] = m_data[\"profit_sign\"] * m_data[\"gap_sign\"]\n",
    "    # m_data.to_csv(\"gap.csv\")\n",
    "    return m_data\n",
    "\n",
    "def draw_gap(gap_data: pd.DataFrame, i_m: int):\n",
    "    for i in range(i_m):\n",
    "        plt.figure(figsize=(20, 10))\n",
    "        sns.lineplot(x=\"openTime\", y=str(i+1) + \"_gap\", data=gap_data, label=str(i+1) + \"_gap\", alpha=0.65, markers=True)\n",
    "        plt.show()\n",
    "    plt.figure(figsize=(20, 10))\n",
    "    sns.lineplot(x=\"openTime\", y=\"close_gap\", data=gap_data, label=\"close_gap\", alpha=0.65, markers=True)\n",
    "    plt.show()\n",
    "\n",
    "def divide_data():\n",
    "    df = get_mt5_data().sort_values(\"time\", ascending=True).reset_index(drop=True)\n",
    "    df_len = df.shape[0]\n",
    "    train = df[:int(0.8 * df_len)]\n",
    "    test = df[int(0.8 * df_len):].reset_index(drop=True)\n",
    "    train.to_csv(\"./data/std_data/train.csv\", index=False)\n",
    "    test.to_csv(\"./data/std_data/test.csv\", index=False)"
   ]
  },
  {
   "cell_type": "code",
   "execution_count": 6,
   "metadata": {
    "scrolled": true
   },
   "outputs": [],
   "source": [
    "# res = user_data_analysis()\n",
    "# display(res.columns)\n",
    "# res = cal_minute_gap(res, 3)\n",
    "# draw_gap(res, 3)"
   ]
  },
  {
   "cell_type": "code",
   "execution_count": 7,
   "metadata": {
    "scrolled": false
   },
   "outputs": [],
   "source": [
    "# display(res[\"prf_gap\"].value_counts())\n",
    "# res[res.prf_gap == -1] # [[\"profit\", \"close_gap\"]]"
   ]
  },
  {
   "cell_type": "code",
   "execution_count": 10,
   "metadata": {},
   "outputs": [
    {
     "name": "stdout",
     "output_type": "stream",
     "text": [
      "mt5 shape:  (1000000, 7)\n"
     ]
    }
   ],
   "source": [
    "mt5_data = get_mt5_data()\n",
    "close_max = mt5_data[\"close_price\"].max()\n",
    "close_min = mt5_data[\"close_price\"].min()\n",
    "\n",
    "# 数据集\n",
    "class MyDataSet(Dataset):\n",
    "    # 初始化数据\n",
    "    def __init__(self, data_x, data_label):\n",
    "        self.data = data_x\n",
    "        self.label = data_label\n",
    "    # 单条数据获取，返回data和其label，最后会根据batchsize合并一组数据\n",
    "    def __getitem__(self, index):\n",
    "        data = self.data[index]\n",
    "        p_label = self.label[index]\n",
    "        return data, p_label\n",
    "    # 返回数据记录长度\n",
    "    def __len__(self):\n",
    "        return self.data.shape[0]\n",
    "\n",
    "# 模型\n",
    "class lstm(nn.Module):\n",
    "    def __init__(self, n_s):\n",
    "        super(lstm, self).__init__()\n",
    "        # 模型及参数定义\n",
    "        self.lstm = nn.LSTM(\n",
    "            input_size=n_s,\n",
    "            hidden_size=64,\n",
    "            num_layers=2,\n",
    "            batch_first=True,\n",
    "            bidirectional=False,\n",
    "        )\n",
    "        self.linear = nn.Linear(64, 1)\n",
    "        \n",
    "        self.h_s = None\n",
    "        self.h_c = None\n",
    "    \n",
    "    def forward(self, x):\n",
    "        # 模型最后输出，包括隐藏层输出和记忆单元的最后输出\n",
    "        out, (self.h_s, self.h_c) = self.lstm(x)\n",
    "        out = out[:, -1, :]\n",
    "        out = self.linear(out)\n",
    "        return out\n",
    "    \n",
    "    \n",
    "# 将数据转换为有监督的数据，即添加label\n",
    "def data_change(data: torch.Tensor, seq_len=14, label_col=\"close_price\", slip=0.7):\n",
    "    total_len, col_len = data.shape\n",
    "    slip = int(slip * total_len)\n",
    "    x = torch.zeros(total_len - seq_len, seq_len, col_len)\n",
    "    y = torch.zeros(total_len - seq_len, 1, 1)\n",
    "    for i in range(total_len - seq_len):\n",
    "        x[i] = data[i: i+seq_len]\n",
    "        y[i] = data[i+seq_len: i+seq_len+1][:, 0].reshape(-1, 1)\n",
    "    \n",
    "    x_train = x[0: slip]\n",
    "    y_train = y[0: slip]\n",
    "    x_val = x[slip:]\n",
    "    y_val = y[slip:]\n",
    "    print(\"data change finish...\")\n",
    "    return x_train, y_train, x_val, y_val\n",
    "\n",
    "# 数据处理\n",
    "def data_processing(df_train: pd.DataFrame, df_test=None):\n",
    "    idx = \"close_price\"\n",
    "    # 10日ma\n",
    "    for i in range(1, 11):\n",
    "        df_train[idx+'_ma_'+str(i)] = df_train[idx].rolling(window=i).mean()\n",
    "    # 12日和26日ema\n",
    "    df_train[idx+'_ema_12'] = df_train[idx].ewm(span=12, adjust=False).mean()\n",
    "    df_train[idx+'_ema_26'] = df_train[idx].ewm(span=26, adjust=False).mean()\n",
    "    # 计算dif，dea，macd\n",
    "    df_train[idx+\"_dif\"], df_train[idx+\"_dea\"], df_train[idx+\"_macd\"] = ta.MACD(\n",
    "                                                        df_train[idx], fastperiod=12, slowperiod=26, signalperiod=9)\n",
    "    # 计算rsi,周期取14\n",
    "    df_train[idx+\"_rsi\"] = ta.RSI(df_train[idx], timeperiod=14)\n",
    "    # kdj指标\n",
    "    low_list = df_train['lowest'].rolling(9, min_periods=9).min()\n",
    "    low_list.fillna(value=df_train['lowest'].expanding().min(), inplace=True)\n",
    "    high_list = df_train['hightest'].rolling(9, min_periods=9).max()\n",
    "    high_list.fillna(value=df_train['hightest'].expanding().max(), inplace=True)\n",
    "    rsv = (df_train[idx] - low_list) / (high_list - low_list) * 100\n",
    "\n",
    "    df_train['K'] = pd.DataFrame(rsv).ewm(com=2).mean()\n",
    "    df_train['D'] = df_train['K'].ewm(com=2).mean()\n",
    "    df_train['J'] = 3 * df_train['K'] - 2 * df_train['D']\n",
    "    \n",
    "    df_train = df_train.dropna()\n",
    "    \n",
    "    # 归一化\n",
    "    scaler = MinMaxScaler()\n",
    "    scaler = scaler.fit(df_train)\n",
    "    df_train = scaler.transform(df_train)\n",
    "    if df_test:\n",
    "        df_test = scaler.transform(df_test)\n",
    "    \n",
    "    return df_train, df_test\n",
    "\n",
    "# 转换数据格式为DataLoader，以作为lstm模型的输入\n",
    "def get_data_loader(ori_data: pd.DataFrame, batch_size=64):\n",
    "    data_len = ori_data.shape[1]\n",
    "    # 转化为tensor格式\n",
    "    ori_data = np.array(ori_data, dtype=np.float32)\n",
    "    ori_data = torch.tensor(ori_data)\n",
    "    # 构造数据集并划分\n",
    "    x_train, y_train, x_val, y_val = data_change(ori_data)\n",
    "    # 转化为dataset格式\n",
    "    train_set = MyDataSet(x_train, y_train)\n",
    "    valid_set = MyDataSet(x_val, y_val)\n",
    "    # 构造dataloader\n",
    "    train_loader = DataLoader(train_set, batch_size=batch_size, shuffle=True)\n",
    "    valid_loader = DataLoader(valid_set, batch_size=batch_size, shuffle=True)\n",
    "    print(\"train_loader len(batch-64): \", len(train_loader))\n",
    "    print(\"valid_loader len(batch-64): \", len(valid_loader))\n",
    "    print(\"data loader finish...\")\n",
    "    return train_loader, valid_loader, data_len\n",
    "\n",
    "def train_model(data: pd.DataFrame):\n",
    "    epochs = 30  # 迭代次数\n",
    "    lr = 3e-4  # 初始学习率\n",
    "    best_precision = 1e6  # 记录最好模型\n",
    "    lr_epoch = [5, 10, 15, 20, 25]\n",
    "    \n",
    "    train_loader, valid_loader, data_len = get_data_loader(data)\n",
    "    \n",
    "    model = lstm(data_len)\n",
    "    loss_function = nn.MSELoss()\n",
    "    optimizer = torch.optim.Adam(model.parameters(), lr=lr)\n",
    "    \n",
    "    print(\"begin training...\")\n",
    "    for epc in range(epochs):\n",
    "        # 学习率衰减\n",
    "        if epc in lr_epoch:\n",
    "            lr = lr * 0.5\n",
    "        optimizer.lr = lr\n",
    "        train_loss, valid_loss = 0, 0\n",
    "        \n",
    "        model.train()\n",
    "        # 遍历batch训练模型。计算梯度并反向传播更新参数\n",
    "        for i, (input_x, input_y) in enumerate(train_loader):\n",
    "            optimizer.zero_grad()\n",
    "            pred = model(input_x)\n",
    "            input_y = input_y.squeeze(1)\n",
    "            loss = loss_function(pred, input_y)\n",
    "            loss.backward()\n",
    "            optimizer.step()\n",
    "            train_loss += loss.item()\n",
    "            \n",
    "        preds = []\n",
    "        labels = []\n",
    "        model.eval()\n",
    "        with torch.no_grad():  # 只看验证集结果 而不进行反向传播的计算\n",
    "            for i, (input_x, input_y) in enumerate(valid_loader):\n",
    "                pred = model(input_x)\n",
    "                \n",
    "                preds.extend((pred.squeeze(1) * (close_max - close_min) + close_min).tolist())\n",
    "                labels.extend((input_y.squeeze(1) * (close_max - close_min) + close_min).tolist())\n",
    "                \n",
    "                input_y = input_y.squeeze(1)\n",
    "                loss = loss_function(pred, input_y)\n",
    "                valid_loss += loss.item()\n",
    "        print(\"[%2d/%2d] train loss: %.5f --- val loss: %.5f --- \" % (epc+1, epochs, train_loss, valid_loss), end='')\n",
    "        mae_score = mean_absolute_error(preds, labels)\n",
    "        print(\"val mae: %.5f\" % mae_score)\n",
    "        \n",
    "        is_best = valid_loss < best_precision\n",
    "        best_precision = min(valid_loss, best_precision)\n",
    "        if is_best:\n",
    "            torch.save({'model': model, 'preds': preds, 'labels': labels, 'loss': valid_loss}, './model_save/lstm.model')\n",
    "\n",
    "\n",
    "def data_prepare_nocut(label_col=\"close_price\"):\n",
    "    ori_data = get_mt5_data()\n",
    "    use_list = [\"symbol\", \"time\", \"volume\"]\n",
    "    use_list = list(set(ori_data.columns) - set(use_list))\n",
    "    ori_data = ori_data[use_list]\n",
    "    ori_data, _ = data_processing(ori_data)\n",
    "    return ori_data\n",
    "\n",
    "\n",
    "def main():\n",
    "    train_data = data_prepare_nocut()\n",
    "    train_model(train_data)\n",
    "    \n"
   ]
  },
  {
   "cell_type": "code",
   "execution_count": 9,
   "metadata": {
    "scrolled": true
   },
   "outputs": [],
   "source": [
    "# main()"
   ]
  },
  {
   "cell_type": "code",
   "execution_count": null,
   "metadata": {},
   "outputs": [],
   "source": []
  },
  {
   "cell_type": "code",
   "execution_count": null,
   "metadata": {},
   "outputs": [],
   "source": []
  },
  {
   "cell_type": "code",
   "execution_count": 10,
   "metadata": {},
   "outputs": [],
   "source": [
    "# 模型预测\n",
    "# def model_predict(test_data: pd.DataFrame, idx=1):\n",
    "#     test_data = np.array(test_data, dtype=np.float32)\n",
    "#     test_data = torch.tensor(test_data)\n",
    "#     test_set = MyDataSet(test_data, test_data[:, idx])\n",
    "#     test_loader = DataLoader(test_set, batch_size=64, shuffle=False)\n",
    "    \n",
    "#     best_model = torch.load('./model_save/lstm.model').get('model')\n",
    "#     best_model.eval()\n",
    "    \n",
    "#     preds = []\n",
    "#     labels = []\n",
    "#     for i, (x, label) in enumerate(test_loader):\n",
    "#         x = x.unsqueeze(1)\n",
    "#         pred = best_model(x)\n",
    "#         preds.extend(pred.squeeze(1).tolist())\n",
    "#         labels.extend(label.tolist())\n",
    "#     display(preds)\n",
    "#     display(labels)\n",
    "\n",
    "\n",
    "# def data_prepare(label_col=\"close_price\"):\n",
    "#     # 获取m5数据\n",
    "#     ori_data = get_mt5_data()\n",
    "#     # 去除无关列\n",
    "#     use_list = [\"symbol\", \"time\", \"volume\"]\n",
    "#     use_list = list(set(ori_data.columns) - set(use_list))\n",
    "#     ori_data = ori_data[use_list]\n",
    "#     # 划分训练集和测试集\n",
    "#     data_len = ori_data.shape[0]\n",
    "#     train_data = ori_data[:int(0.8 * data_len)]\n",
    "#     test_data = ori_data[int(0.8 * data_len):]\n",
    "#     idx = list(test_data.columns).index(label_col)\n",
    "#     # 数据处理\n",
    "#     train_data, test_data = data_processing(train_data, test_data)\n",
    "#     return train_data, test_data, idx"
   ]
  },
  {
   "cell_type": "code",
   "execution_count": 11,
   "metadata": {},
   "outputs": [],
   "source": [
    "preds = torch.load('./model_save/lstm.model').get('preds')\n",
    "lab = torch.load('./model_save/lstm.model').get('labels')"
   ]
  },
  {
   "cell_type": "markdown",
   "metadata": {},
   "source": [
    "## ARIMA预测"
   ]
  },
  {
   "cell_type": "code",
   "execution_count": 13,
   "metadata": {},
   "outputs": [
    {
     "name": "stdout",
     "output_type": "stream",
     "text": [
      "mt5 shape:  (1000000, 7)\n",
      "Performing stepwise search to minimize aic\n",
      " ARIMA(2,1,2)(0,0,0)[0] intercept   : AIC=41785.655, Time=2.71 sec\n",
      " ARIMA(0,1,0)(0,0,0)[0] intercept   : AIC=41794.028, Time=0.08 sec\n",
      " ARIMA(1,1,0)(0,0,0)[0] intercept   : AIC=41792.911, Time=0.23 sec\n",
      " ARIMA(0,1,1)(0,0,0)[0] intercept   : AIC=41792.959, Time=0.22 sec\n",
      " ARIMA(0,1,0)(0,0,0)[0]             : AIC=41792.358, Time=0.06 sec\n",
      " ARIMA(1,1,2)(0,0,0)[0] intercept   : AIC=41788.898, Time=2.39 sec\n",
      " ARIMA(2,1,1)(0,0,0)[0] intercept   : AIC=41796.626, Time=0.49 sec\n",
      " ARIMA(3,1,2)(0,0,0)[0] intercept   : AIC=41787.342, Time=3.17 sec\n",
      " ARIMA(2,1,3)(0,0,0)[0] intercept   : AIC=41787.347, Time=3.60 sec\n",
      " ARIMA(1,1,1)(0,0,0)[0] intercept   : AIC=41790.750, Time=1.29 sec\n",
      " ARIMA(1,1,3)(0,0,0)[0] intercept   : AIC=41788.335, Time=2.74 sec\n",
      " ARIMA(3,1,1)(0,0,0)[0] intercept   : AIC=41797.806, Time=0.51 sec\n",
      " ARIMA(3,1,3)(0,0,0)[0] intercept   : AIC=41789.340, Time=4.89 sec\n",
      " ARIMA(2,1,2)(0,0,0)[0]             : AIC=41784.226, Time=1.24 sec\n",
      " ARIMA(1,1,2)(0,0,0)[0]             : AIC=41787.472, Time=0.97 sec\n",
      " ARIMA(2,1,1)(0,0,0)[0]             : AIC=41794.967, Time=0.25 sec\n",
      " ARIMA(3,1,2)(0,0,0)[0]             : AIC=41785.898, Time=1.74 sec\n",
      " ARIMA(2,1,3)(0,0,0)[0]             : AIC=41785.904, Time=1.67 sec\n",
      " ARIMA(1,1,1)(0,0,0)[0]             : AIC=41789.086, Time=0.46 sec\n",
      " ARIMA(1,1,3)(0,0,0)[0]             : AIC=41786.856, Time=1.19 sec\n",
      " ARIMA(3,1,1)(0,0,0)[0]             : AIC=41796.155, Time=0.25 sec\n",
      " ARIMA(3,1,3)(0,0,0)[0]             : AIC=41787.893, Time=1.80 sec\n",
      "\n",
      "Best model:  ARIMA(2,1,2)(0,0,0)[0]          \n",
      "Total fit time: 31.972 seconds\n"
     ]
    },
    {
     "data": {
      "text/plain": [
       "ARIMA(order=(2, 1, 2), scoring_args={}, suppress_warnings=True,\n",
       "      with_intercept=False)"
      ]
     },
     "execution_count": 13,
     "metadata": {},
     "output_type": "execute_result"
    }
   ],
   "source": [
    "\n",
    "df = get_mt5_data()\n",
    "# 根据需要选取数据，总数据为100w\n",
    "df = df[-5000:]\n",
    "df.index = df.time\n",
    "# 划分训练数据和测试数据\n",
    "train = df[:-60]\n",
    "valid = df[-60:]\n",
    "train = train[['close_price']]\n",
    "valid = valid[['close_price']]\n",
    "\n",
    "from pmdarima import auto_arima\n",
    "# trace跟踪打印训练信息\n",
    "# error_action忽略训练过程中的拟合错误\n",
    "# suppress_warnings不抛出警告\n",
    "model = auto_arima(train, trace=True, error_action='ignore', suppress_warnings=True)\n",
    "model.fit(train)"
   ]
  },
  {
   "cell_type": "code",
   "execution_count": 15,
   "metadata": {},
   "outputs": [
    {
     "name": "stdout",
     "output_type": "stream",
     "text": [
      "ARIMA mae:  48.91860889800446\n"
     ]
    },
    {
     "data": {
      "image/png": "[encoded data removed]",
      "text/plain": [
       "<Figure size 1152x576 with 1 Axes>"
      ]
     },
     "metadata": {
      "needs_background": "light"
     },
     "output_type": "display_data"
    }
   ],
   "source": [
    "# 预测未来60条数据\n",
    "pred = model.predict(n_periods=60)\n",
    "\n",
    "mae_ = mean_absolute_error(pred, valid)\n",
    "print(\"ARIMA mae: \", mae_)\n",
    "\n",
    "plt.figure(figsize=(16, 8))\n",
    "plt.plot(pred, \"b\", label=\"pred\")\n",
    "plt.plot(list(valid['close_price']), \"r\", label=\"true\")\n",
    "\n",
    "plt.legend(loc=2,fontsize=18)\n",
    "plt.xticks(fontsize=20)\n",
    "plt.yticks(fontsize=12)\n",
    "plt.xlabel('time sequence',fontsize=20)\n",
    "plt.ylabel('stock price',fontsize=20)\n",
    "plt.title('ARIMA拟合情况示例',fontsize=20)\n",
    "# plt.savefig('./picture/arima.png',dpi=500, bbox_inches='tight')\n",
    "plt.show()"
   ]
  },
  {
   "cell_type": "code",
   "execution_count": null,
   "metadata": {},
   "outputs": [],
   "source": []
  },
  {
   "cell_type": "code",
   "execution_count": null,
   "metadata": {},
   "outputs": [],
   "source": []
  },
  {
   "cell_type": "markdown",
   "metadata": {},
   "source": [
    "## 线性回归预测"
   ]
  },
  {
   "cell_type": "code",
   "execution_count": 17,
   "metadata": {},
   "outputs": [
    {
     "name": "stdout",
     "output_type": "stream",
     "text": [
      "mt5 shape:  (1000000, 7)\n"
     ]
    }
   ],
   "source": [
    "df = get_mt5_data()\n",
    "df = df[:]\n",
    "df.index = df.time\n",
    "ml_train = df[['open_price','close_price','hightest','lowest']]\n",
    "\n",
    "# ml_train['price_DIFF'] = ml_train['close_price'] - ml_train['open_price']\n",
    "# ml_train['most_DIFF'] = ml_train['hightest'] - ml_train['lowest']\n",
    "\n",
    "idx = \"close_price\"\n",
    "# 10日ma\n",
    "for i in range(1, 11):\n",
    "    ml_train[idx+'_ma_'+str(i)] = ml_train[idx].rolling(window=i).mean()\n",
    "# 12日和26日ema\n",
    "ml_train[idx+'_ema_12'] = ml_train[idx].ewm(span=12, adjust=False).mean()\n",
    "ml_train[idx+'_ema_26'] = ml_train[idx].ewm(span=26, adjust=False).mean()\n",
    "# 计算dif，dea，macd\n",
    "ml_train[idx+\"_dif\"], ml_train[idx+\"_dea\"], ml_train[idx+\"_macd\"] = ta.MACD(\n",
    "                                                    ml_train[idx], fastperiod=12, slowperiod=26, signalperiod=9)\n",
    "# 计算rsi,周期取14\n",
    "ml_train[idx+\"_rsi\"] = ta.RSI(ml_train[idx], timeperiod=14)\n",
    "# kdj指标\n",
    "low_list = ml_train['lowest'].rolling(9, min_periods=9).min()\n",
    "low_list.fillna(value = ml_train['lowest'].expanding().min(), inplace = True)\n",
    "high_list = ml_train['hightest'].rolling(9, min_periods=9).max()\n",
    "high_list.fillna(value = ml_train['hightest'].expanding().max(), inplace = True)\n",
    "rsv = (ml_train[idx] - low_list) / (high_list - low_list) * 100\n",
    "\n",
    "ml_train['K'] = pd.DataFrame(rsv).ewm(com=2).mean()\n",
    "ml_train['D'] = ml_train['K'].ewm(com=2).mean()\n",
    "ml_train['J'] = 3 * ml_train['K'] - 2 * ml_train['D']\n",
    "\n",
    "ml_train = ml_train.dropna()\n",
    "\n",
    "# 设置未来预测时间，设置为1表示预测未来1分钟的数据\n",
    "ml_train['label'] = ml_train.close_price.shift(-1)\n",
    "ml_train.drop('close_price',axis=1)\n",
    "# ml_train['label'] = ml_train.close_price.shift(-1)\n",
    "# ml_train['label'] = ml_train.label - ml_train.close_price\n",
    "ml_train = ml_train.dropna()"
   ]
  },
  {
   "cell_type": "code",
   "execution_count": 18,
   "metadata": {},
   "outputs": [
    {
     "data": {
      "text/plain": [
       "time\n",
       "2020-06-25 17:35:00    124030.0\n",
       "2020-06-25 17:36:00    124056.0\n",
       "2020-06-25 17:37:00    124059.0\n",
       "2020-06-25 17:38:00    124075.0\n",
       "2020-06-25 17:39:00    124066.0\n",
       "                         ...   \n",
       "2021-04-16 16:09:00    138037.0\n",
       "2021-04-16 16:10:00    138027.0\n",
       "2021-04-16 16:11:00    138035.0\n",
       "2021-04-16 16:12:00    138032.0\n",
       "2021-04-16 16:13:00    138036.0\n",
       "Name: label, Length: 299982, dtype: float64"
      ]
     },
     "metadata": {},
     "output_type": "display_data"
    }
   ],
   "source": [
    "from sklearn.model_selection import train_test_split\n",
    "\n",
    "train_x,test_x,train_y,test_y = train_test_split(ml_train.drop('label',axis=1),ml_train.label,test_size=0.3,\n",
    "                                                 random_state=111,shuffle=False)\n",
    "display(test_y)"
   ]
  },
  {
   "cell_type": "code",
   "execution_count": 19,
   "metadata": {},
   "outputs": [
    {
     "name": "stdout",
     "output_type": "stream",
     "text": [
      "LinearRegression MAE: 74.60554098616804\n"
     ]
    },
    {
     "data": {
      "image/png": "[encoded data removed]",
      "text/plain": [
       "<Figure size 1152x576 with 1 Axes>"
      ]
     },
     "metadata": {
      "needs_background": "light"
     },
     "output_type": "display_data"
    }
   ],
   "source": [
    "from sklearn.linear_model import LinearRegression\n",
    "from sklearn.metrics import mean_absolute_error, mean_squared_error\n",
    "\n",
    "lin_model = LinearRegression()\n",
    "\n",
    "lin_model.fit(train_x,train_y)\n",
    "print('LinearRegression MAE:',mean_absolute_error(lin_model.predict(test_x),test_y))\n",
    "plt.figure(figsize=(16, 8))\n",
    "\n",
    "plt.plot(list(test_y)[-60:], \"r\", label=\"true\")\n",
    "plt.plot(lin_model.predict(test_x)[-60:], \"b\", label=\"pred\")\n",
    "\n",
    "plt.legend(loc=2,fontsize=18)\n",
    "plt.xticks(fontsize=20)\n",
    "plt.yticks(fontsize=12)\n",
    "plt.xlabel('time sequence',fontsize=20)\n",
    "plt.ylabel('stock price',fontsize=20)\n",
    "plt.title('LinearRegression拟合情况示例',fontsize=20)\n",
    "# plt.savefig('./picture/Linear30.png', bbox_inches='tight')\n",
    "\n",
    "plt.show()\n",
    "# display(list(test_y)[-60:])\n",
    "# display(lin_model.predict(test_x)[-60:])"
   ]
  },
  {
   "cell_type": "markdown",
   "metadata": {},
   "source": [
    "## LightGBM预测"
   ]
  },
  {
   "cell_type": "code",
   "execution_count": 1,
   "metadata": {},
   "outputs": [
    {
     "ename": "NameError",
     "evalue": "name 'df' is not defined",
     "output_type": "error",
     "traceback": [
      "\u001b[1;31m---------------------------------------------------------------------------\u001b[0m",
      "\u001b[1;31mNameError\u001b[0m                                 Traceback (most recent call last)",
      "\u001b[1;32m<ipython-input-1-d80dd0baecc3>\u001b[0m in \u001b[0;36m<module>\u001b[1;34m\u001b[0m\n\u001b[0;32m      3\u001b[0m \u001b[1;32mfrom\u001b[0m \u001b[0msklearn\u001b[0m\u001b[1;33m.\u001b[0m\u001b[0mmodel_selection\u001b[0m \u001b[1;32mimport\u001b[0m \u001b[0mtrain_test_split\u001b[0m\u001b[1;33m\u001b[0m\u001b[1;33m\u001b[0m\u001b[0m\n\u001b[0;32m      4\u001b[0m \u001b[1;33m\u001b[0m\u001b[0m\n\u001b[1;32m----> 5\u001b[1;33m \u001b[0mml_train\u001b[0m \u001b[1;33m=\u001b[0m \u001b[0mdf\u001b[0m\u001b[1;33m[\u001b[0m\u001b[1;33m[\u001b[0m\u001b[1;34m'open_price'\u001b[0m\u001b[1;33m,\u001b[0m\u001b[1;34m'close_price'\u001b[0m\u001b[1;33m,\u001b[0m\u001b[1;34m'hightest'\u001b[0m\u001b[1;33m,\u001b[0m\u001b[1;34m'lowest'\u001b[0m\u001b[1;33m]\u001b[0m\u001b[1;33m]\u001b[0m\u001b[1;33m\u001b[0m\u001b[1;33m\u001b[0m\u001b[0m\n\u001b[0m\u001b[0;32m      6\u001b[0m \u001b[1;33m\u001b[0m\u001b[0m\n\u001b[0;32m      7\u001b[0m \u001b[1;33m\u001b[0m\u001b[0m\n",
      "\u001b[1;31mNameError\u001b[0m: name 'df' is not defined"
     ]
    }
   ],
   "source": [
    "from lightgbm import LGBMRegressor\n",
    "from sklearn.metrics import mean_absolute_error\n",
    "from sklearn.model_selection import train_test_split\n",
    "\n",
    "ml_train = df[['open_price','close_price','hightest','lowest']]\n",
    "\n",
    "\n",
    "# ml_train['price_DIFF'] = ml_train['close_price'] - ml_train['open_price']\n",
    "# ml_train['most_DIFF'] = ml_train['hightest'] - ml_train['lowest']\n",
    "\n",
    "\n",
    "idx = \"close_price\"\n",
    "# 10日ma\n",
    "for i in range(1, 11):\n",
    "    ml_train[idx+'_ma_'+str(i)] = ml_train[idx].rolling(window=i).mean()\n",
    "# 12日和26日ema\n",
    "ml_train[idx+'_ema_12'] = ml_train[idx].ewm(span=12, adjust=False).mean()\n",
    "ml_train[idx+'_ema_26'] = ml_train[idx].ewm(span=26, adjust=False).mean()\n",
    "# 计算dif，dea，macd\n",
    "ml_train[idx+\"_dif\"], ml_train[idx+\"_dea\"], ml_train[idx+\"_macd\"] = ta.MACD(\n",
    "                                                    ml_train[idx], fastperiod=12, slowperiod=26, signalperiod=9)\n",
    "# 计算rsi,周期取14\n",
    "ml_train[idx+\"_rsi\"] = ta.RSI(ml_train[idx], timeperiod=14)\n",
    "# kdj指标\n",
    "low_list = ml_train['lowest'].rolling(9, min_periods=9).min()\n",
    "low_list.fillna(value = ml_train['lowest'].expanding().min(), inplace = True)\n",
    "high_list = ml_train['hightest'].rolling(9, min_periods=9).max()\n",
    "high_list.fillna(value = ml_train['hightest'].expanding().max(), inplace = True)\n",
    "rsv = (ml_train[idx] - low_list) / (high_list - low_list) * 100\n",
    "\n",
    "ml_train['K'] = pd.DataFrame(rsv).ewm(com=2).mean()\n",
    "ml_train['D'] = ml_train['K'].ewm(com=2).mean()\n",
    "ml_train['J'] = 3 * ml_train['K'] - 2 * ml_train['D']\n",
    "\n",
    "\n",
    "ml_train['label'] = ml_train.close_price.shift(-1)\n",
    "ml_train['label'] = ml_train.label - ml_train.close_price\n",
    "ml_train = ml_train.dropna()\n",
    "train_x,test_x,train_y,test_y = train_test_split(ml_train.drop('label',axis=1),ml_train.label,test_size=0.3,\n",
    "                                                 random_state=111,shuffle=False)\n",
    "\n",
    "\n",
    "model = LGBMRegressor(n_estimators=100000)\n",
    "model.fit(train_x,train_y,eval_set=(test_x,test_y),eval_metric='mae',early_stopping_rounds=500,verbose=100)\n",
    "pred = model.predict(test_x)\n",
    "print(\"lgb mae: \", mean_absolute_error(pred + test_x.close_price, test_y + test_x.close_price))\n",
    "\n",
    "plt.plot(list(test_x.close_price)[-60:], \"r\", label=\"true\")\n",
    "plt.plot(list(pred + test_x.close_price)[-60:], \"b\", label=\"pred\")\n",
    "plt.show()"
   ]
  },
  {
   "cell_type": "code",
   "execution_count": 25,
   "metadata": {},
   "outputs": [
    {
     "name": "stdout",
     "output_type": "stream",
     "text": [
      "4 2\n"
     ]
    }
   ],
   "source": [
    "num = [1, 1, 2, 2, 2, 2, 3, 2, 1, 2, 3]\n",
    "cnt = 1\n",
    "max_cnt = 1\n",
    "value = num[0]\n",
    "for i in range(1, len(num)):\n",
    "    if num[i] == num[i-1]:\n",
    "        cnt += 1\n",
    "    else:\n",
    "        if cnt > max_cnt:\n",
    "            max_cnt = cnt\n",
    "            value = num[i-1]\n",
    "        cnt = 1\n",
    "print(max_cnt, value)"
   ]
  },
  {
   "cell_type": "code",
   "execution_count": null,
   "metadata": {},
   "outputs": [],
   "source": []
  }
 ],
 "metadata": {
  "kernelspec": {
   "display_name": "Python 3",
   "language": "python",
   "name": "python3"
  },
  "language_info": {
   "codemirror_mode": {
    "name": "ipython",
    "version": 3
   },
   "file_extension": ".py",
   "mimetype": "text/x-python",
   "name": "python",
   "nbconvert_exporter": "python",
   "pygments_lexer": "ipython3",
   "version": "3.8.5"
  }
 },
 "nbformat": 4,
 "nbformat_minor": 4
}
